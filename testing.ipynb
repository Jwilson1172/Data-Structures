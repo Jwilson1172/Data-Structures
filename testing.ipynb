{
 "cells": [
  {
   "cell_type": "code",
   "execution_count": 4,
   "metadata": {},
   "outputs": [],
   "source": [
    "from queue_s.queue import Queue\n",
    "\n"
   ]
  },
  {
   "cell_type": "code",
   "execution_count": 5,
   "metadata": {},
   "outputs": [],
   "source": [
    "q = Queue()"
   ]
  },
  {
   "cell_type": "code",
   "execution_count": 6,
   "metadata": {},
   "outputs": [],
   "source": [
    "q.enqueue(15)"
   ]
  },
  {
   "cell_type": "code",
   "execution_count": 7,
   "metadata": {},
   "outputs": [
    {
     "output_type": "execute_result",
     "data": {
      "text/plain": "15"
     },
     "metadata": {},
     "execution_count": 7
    }
   ],
   "source": [
    "q.dequeue()"
   ]
  },
  {
   "cell_type": "code",
   "execution_count": 8,
   "metadata": {},
   "outputs": [],
   "source": [
    "def clone_to_file(file: str, q: Queue):\n",
    "    with open(file, 'rt') as fp:\n",
    "        for i in q.storage:\n",
    "            fp.writelines(i)\n",
    "        fp.flush()\n",
    "        "
   ]
  },
  {
   "cell_type": "code",
   "execution_count": 9,
   "metadata": {},
   "outputs": [
    {
     "output_type": "error",
     "ename": "KeyboardInterrupt",
     "evalue": "",
     "traceback": [
      "\u001b[0;31m---------------------------------------------------------------------------\u001b[0m",
      "\u001b[0;31mKeyboardInterrupt\u001b[0m                         Traceback (most recent call last)",
      "\u001b[0;32m<ipython-input-9-e0a8981c2588>\u001b[0m in \u001b[0;36m<module>\u001b[0;34m\u001b[0m\n\u001b[1;32m      3\u001b[0m \u001b[0mq\u001b[0m\u001b[0;34m.\u001b[0m\u001b[0menqueue\u001b[0m\u001b[0;34m(\u001b[0m\u001b[0;34m[\u001b[0m\u001b[0;36m13\u001b[0m\u001b[0;34m,\u001b[0m\u001b[0;36m22\u001b[0m\u001b[0;34m]\u001b[0m\u001b[0;34m)\u001b[0m\u001b[0;34m\u001b[0m\u001b[0;34m\u001b[0m\u001b[0m\n\u001b[1;32m      4\u001b[0m \u001b[0;34m\u001b[0m\u001b[0m\n\u001b[0;32m----> 5\u001b[0;31m \u001b[0mclone_to_file\u001b[0m\u001b[0;34m(\u001b[0m\u001b[0;34m'testbuffer.sock'\u001b[0m\u001b[0;34m,\u001b[0m \u001b[0mq\u001b[0m\u001b[0;34m=\u001b[0m\u001b[0mq\u001b[0m\u001b[0;34m)\u001b[0m\u001b[0;34m\u001b[0m\u001b[0;34m\u001b[0m\u001b[0m\n\u001b[0m",
      "\u001b[0;32m<ipython-input-8-75514996b573>\u001b[0m in \u001b[0;36mclone_to_file\u001b[0;34m(file, q)\u001b[0m\n\u001b[1;32m      1\u001b[0m \u001b[0;32mdef\u001b[0m \u001b[0mclone_to_file\u001b[0m\u001b[0;34m(\u001b[0m\u001b[0mfile\u001b[0m\u001b[0;34m:\u001b[0m \u001b[0mstr\u001b[0m\u001b[0;34m,\u001b[0m \u001b[0mq\u001b[0m\u001b[0;34m:\u001b[0m \u001b[0mQueue\u001b[0m\u001b[0;34m)\u001b[0m\u001b[0;34m:\u001b[0m\u001b[0;34m\u001b[0m\u001b[0;34m\u001b[0m\u001b[0m\n\u001b[0;32m----> 2\u001b[0;31m     \u001b[0;32mwith\u001b[0m \u001b[0mopen\u001b[0m\u001b[0;34m(\u001b[0m\u001b[0mfile\u001b[0m\u001b[0;34m,\u001b[0m \u001b[0;34m'rt'\u001b[0m\u001b[0;34m)\u001b[0m \u001b[0;32mas\u001b[0m \u001b[0mfp\u001b[0m\u001b[0;34m:\u001b[0m\u001b[0;34m\u001b[0m\u001b[0;34m\u001b[0m\u001b[0m\n\u001b[0m\u001b[1;32m      3\u001b[0m         \u001b[0;32mfor\u001b[0m \u001b[0mi\u001b[0m \u001b[0;32min\u001b[0m \u001b[0mq\u001b[0m\u001b[0;34m.\u001b[0m\u001b[0mstorage\u001b[0m\u001b[0;34m:\u001b[0m\u001b[0;34m\u001b[0m\u001b[0;34m\u001b[0m\u001b[0m\n\u001b[1;32m      4\u001b[0m             \u001b[0mfp\u001b[0m\u001b[0;34m.\u001b[0m\u001b[0mwritelines\u001b[0m\u001b[0;34m(\u001b[0m\u001b[0mi\u001b[0m\u001b[0;34m)\u001b[0m\u001b[0;34m\u001b[0m\u001b[0;34m\u001b[0m\u001b[0m\n\u001b[1;32m      5\u001b[0m         \u001b[0mfp\u001b[0m\u001b[0;34m.\u001b[0m\u001b[0mflush\u001b[0m\u001b[0;34m(\u001b[0m\u001b[0;34m)\u001b[0m\u001b[0;34m\u001b[0m\u001b[0;34m\u001b[0m\u001b[0m\n",
      "\u001b[0;31mKeyboardInterrupt\u001b[0m: "
     ]
    }
   ],
   "source": [
    "q.enqueue(25)\n",
    "q.enqueue(15)\n",
    "q.enqueue([13,22])\n",
    "\n",
    "clone_to_file('testbuffer.sock', q=q)"
   ]
  },
  {
   "cell_type": "code",
   "execution_count": 16,
   "metadata": {},
   "outputs": [
    {
     "output_type": "stream",
     "name": "stdout",
     "text": "tried 4\n"
    },
    {
     "output_type": "execute_result",
     "data": {
      "text/plain": "[3, 4]"
     },
     "metadata": {},
     "execution_count": 16
    }
   ],
   "source": [
    "class Solution:\n",
    "    def twoSum(self, nums: list, target: int) -> list:\n",
    "        tried = 1\n",
    "        for i in range(len(nums)):\n",
    "            if nums[i] + nums[i + 1] == target:\n",
    "                print(\"tried {}\".format(tried))\n",
    "                return [i, (i + 1)]\n",
    "            tried = tried + 1\n",
    "\n",
    "Solution().twoSum([2, 5, 7, 22, 50, 95], 72)"
   ]
  },
  {
   "cell_type": "code",
   "execution_count": null,
   "metadata": {},
   "outputs": [],
   "source": []
  },
  {
   "cell_type": "code",
   "execution_count": 40,
   "metadata": {},
   "outputs": [
    {
     "output_type": "stream",
     "name": "stdout",
     "text": "size=3\nsize=2\nTrue\nsize=1\n5\n"
    }
   ],
   "source": []
  },
  {
   "cell_type": "code",
   "execution_count": 41,
   "metadata": {},
   "outputs": [
    {
     "output_type": "stream",
     "name": "stdout",
     "text": "size=5\nPrint List..........\nNode value: 9\nNode value: 8\nNode value: 3\nNode value: 9\nNode value: 5\nPrint List..........\nNode value: 3\nNode value: 5\nNode value: 8\nNode value: 9\nNode value: 9\nsize=4\nFalse\nsize=4\n"
    }
   ],
   "source": []
  },
  {
   "cell_type": "code",
   "execution_count": null,
   "metadata": {},
   "outputs": [],
   "source": [
    "class Node(object):\n",
    "\n",
    "\tdef __init__ (self, d, n = None):\n",
    "\t\tself.data = d\n",
    "\t\tself.next_node = n\n",
    "\n",
    "\tdef get_next (self):\n",
    "\t\treturn self.next_node\n",
    "\n",
    "\tdef set_next (self, n):\n",
    "\t\tself.next_node = n\n",
    "\t\t\n",
    "\tdef get_data (self):\n",
    "\t\treturn self.data\n",
    "\n",
    "\tdef set_data (self, d):\n",
    "\t\tself.data = d\n",
    "\t\t\n",
    "\tdef has_next (self):\n",
    "\t\tif self.get_next() is None:\n",
    "\t\t\treturn False\n",
    "\t\treturn True\n",
    "\t\t\n",
    "\tdef to_string (self):\n",
    "\t\treturn \"Node value: \" + str(self.data)\n",
    "\t\t\n",
    "class LinkedList (object):\n",
    "\n",
    "\tdef __init__ (self, r = None):\n",
    "\t\tself.root = r\n",
    "\t\tself.size = 0\n",
    "\n",
    "\tdef get_size (self):\n",
    "\t\treturn self.size\n",
    "\n",
    "\tdef add (self, d):\n",
    "\t\tnew_node = Node (d, self.root)\n",
    "\t\tself.root = new_node\n",
    "\t\tself.size += 1\n",
    "\n",
    "\tdef add_node (self, n):\n",
    "\t\tn.set_next(self.root)\n",
    "\t\tself.root = n\n",
    "\t\tself.size += 1\n",
    "\t\t\n",
    "\tdef remove (self, d):\n",
    "\t\tthis_node = self.root\n",
    "\t\tprev_node = None\n",
    "\n",
    "\t\twhile this_node is not None:\n",
    "\t\t\tif this_node.get_data() == d:\n",
    "\t\t\t\tif prev_node is not None:\n",
    "\t\t\t\t\tprev_node.set_next(this_node.get_next())\n",
    "\t\t\t\telse:\n",
    "\t\t\t\t\tself.root = this_node.get_next()\n",
    "\t\t\t\tself.size -= 1\n",
    "\t\t\t\treturn True     # data removed\n",
    "\t\t\telse:\n",
    "\t\t\t\tprev_node = this_node\n",
    "\t\t\t\tthis_node = this_node.get_next()\n",
    "\t\treturn False  # data not found\n",
    "\n",
    "\tdef find (self, d):\n",
    "\t\tthis_node = self.root\n",
    "\t\twhile this_node is not None:\n",
    "\t\t\tif this_node.get_data() == d:\n",
    "\t\t\t\treturn d\n",
    "\t\t\telif this_node.get_next() == None:\n",
    "\t\t\t\treturn False\n",
    "\t\t\telse:\n",
    "\t\t\t\tthis_node = this_node.get_next()\n",
    "\t\t\t\t\n",
    "\tdef print_list (self):\n",
    "\t\tprint (\"Print List..........\")\n",
    "\t\tif self.root is None:\n",
    "\t\t\treturn\n",
    "\t\tthis_node = self.root\n",
    "\t\tprint (this_node.to_string())\n",
    "\t\twhile this_node.has_next():\n",
    "\t\t\tthis_node = this_node.get_next()\n",
    "\t\t\tprint (this_node.to_string())\n",
    "\t\t\t\n",
    "\tdef sort (self):\n",
    "\t\tif self.size > 1:\n",
    "\t\t\tnewlist = [];\n",
    "\t\t\tcurrent = self.root;\n",
    "\t\t\tnewlist.append(self.root);\n",
    "\t\t\twhile current.has_next():\n",
    "\t\t\t\tcurrent = current.get_next();\n",
    "\t\t\t\tnewlist.append(current);\n",
    "\t\t\tnewlist = sorted(newlist, key = lambda node: node.get_data(), reverse = True);\n",
    "\t\t\tnewll = LinkedList();\n",
    "\t\t\tfor node in newlist:\n",
    "\t\t\t\tnewll.add_node(node);\n",
    "\t\t\treturn newll;\n",
    "\t\treturn self;\n",
    "\t\t\n",
    "def main():\n",
    "\tmyList = LinkedList()\n",
    "\tmyList.add(5)\n",
    "\tmyList.add(9)\n",
    "\tmyList.add(3)\n",
    "\tmyList.add(8)\n",
    "\tmyList.add(9)\n",
    "\tprint(\"size=\"+str(myList.get_size()))\n",
    "\tmyList.print_list()\n",
    "\tmyList = myList.sort()\n",
    "\tmyList.print_list()\n",
    "\tmyList.remove(8)\n",
    "\tprint(\"size=\"+str(myList.get_size()))\n",
    "\tprint(\"Remove 15\", myList.remove(15))\n",
    "\tprint(\"size=\"+str(myList.get_size()))\n",
    "\tprint(\"Find 25\", myList.find(25))\n",
    "\tmyList.print_list()\n",
    "\t\n",
    "main()"
   ]
  }
 ],
 "metadata": {
  "language_info": {
   "codemirror_mode": {
    "name": "ipython",
    "version": 3
   },
   "file_extension": ".py",
   "mimetype": "text/x-python",
   "name": "python",
   "nbconvert_exporter": "python",
   "pygments_lexer": "ipython3",
   "version": "3.7.6-final"
  },
  "orig_nbformat": 2,
  "kernelspec": {
   "name": "python37664bitdsbaseconda9956eca633a347819211e2a656c12189",
   "display_name": "Python 3.7.6 64-bit ('ds-base': conda)"
  }
 },
 "nbformat": 4,
 "nbformat_minor": 2
}